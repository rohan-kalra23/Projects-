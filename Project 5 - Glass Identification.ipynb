{
 "cells": [
  {
   "cell_type": "markdown",
   "id": "4b887db9",
   "metadata": {},
   "source": [
    "# Project-5 : Glass Identification"
   ]
  },
  {
   "cell_type": "markdown",
   "id": "283e6f12",
   "metadata": {},
   "source": [
    "**Project Description:**\n",
    "\n",
    "The dataset describes the chemical properties of glass and involves classifying samples of glass using their chemical properties as one of six classes. The dataset was credited to Vina Spiehler in 1987. The study of classification of types of glass was motivated by criminological investigation. At the scene of the crime, the glass left can be used as evidence...if it is correctly identified!\n",
    "\n",
    "The chemical compositions are measured as the weight percent in corresponding oxide.\n",
    "Attribute Information-\n",
    "1.\t Id number: 1 to 214\n",
    "2.\t RI: refractive index\n",
    "3.\tNa: Sodium (unit measurement: weight percent in corresponding oxide, as are attributes 4-10)\n",
    "4.\tMg: Magnesium\n",
    "5.\tAl: Aluminum\n",
    "6.\tSi: Silicon\n",
    "7.\tK: Potassium\n",
    "8.\tCa: Calcium\n",
    "9.\tBa: Barium\n",
    "10.\tFe: Iron\n",
    "11.\tType of glass: (class attribute)\n",
    "•\t1- building_windows_float_processed\n",
    "•\t2- building_windows_non_float_processed\n",
    "•\t3- vehicle_windows_float_processed\n",
    "•\t4- vehicle_windows_non_float_processed (none in this database)\n",
    "•\t5- containers\n",
    "•\t6- tableware\n",
    "•\t7- headlamps\n",
    "There are 214 observations in the dataset. The dataset can be divided into window glass (classes 1-4) and non-window glass (classes 5-7). \n"
   ]
  },
  {
   "cell_type": "markdown",
   "id": "33a76f26",
   "metadata": {},
   "source": [
    "**To predict:**\n",
    "\n",
    "Type of Glass"
   ]
  },
  {
   "cell_type": "code",
   "execution_count": 65,
   "id": "3aa0f7ab",
   "metadata": {},
   "outputs": [],
   "source": [
    "# Importing necessary libraries:\n",
    "\n",
    "import pandas as pd\n",
    "import numpy as np\n",
    "import seaborn as sns\n",
    "import matplotlib.pyplot as plt\n",
    "%matplotlib inline\n",
    "import warnings\n",
    "warnings.filterwarnings('ignore')"
   ]
  },
  {
   "cell_type": "code",
   "execution_count": 66,
   "id": "d888bcd2",
   "metadata": {},
   "outputs": [
    {
     "data": {
      "text/html": [
       "<div>\n",
       "<style scoped>\n",
       "    .dataframe tbody tr th:only-of-type {\n",
       "        vertical-align: middle;\n",
       "    }\n",
       "\n",
       "    .dataframe tbody tr th {\n",
       "        vertical-align: top;\n",
       "    }\n",
       "\n",
       "    .dataframe thead th {\n",
       "        text-align: right;\n",
       "    }\n",
       "</style>\n",
       "<table border=\"1\" class=\"dataframe\">\n",
       "  <thead>\n",
       "    <tr style=\"text-align: right;\">\n",
       "      <th></th>\n",
       "      <th>1</th>\n",
       "      <th>1.52101</th>\n",
       "      <th>13.64</th>\n",
       "      <th>4.49</th>\n",
       "      <th>1.10</th>\n",
       "      <th>71.78</th>\n",
       "      <th>0.06</th>\n",
       "      <th>8.75</th>\n",
       "      <th>0.00</th>\n",
       "      <th>0.00.1</th>\n",
       "      <th>1.1</th>\n",
       "    </tr>\n",
       "  </thead>\n",
       "  <tbody>\n",
       "    <tr>\n",
       "      <th>0</th>\n",
       "      <td>2</td>\n",
       "      <td>1.51761</td>\n",
       "      <td>13.89</td>\n",
       "      <td>3.60</td>\n",
       "      <td>1.36</td>\n",
       "      <td>72.73</td>\n",
       "      <td>0.48</td>\n",
       "      <td>7.83</td>\n",
       "      <td>0.00</td>\n",
       "      <td>0.00</td>\n",
       "      <td>1</td>\n",
       "    </tr>\n",
       "    <tr>\n",
       "      <th>1</th>\n",
       "      <td>3</td>\n",
       "      <td>1.51618</td>\n",
       "      <td>13.53</td>\n",
       "      <td>3.55</td>\n",
       "      <td>1.54</td>\n",
       "      <td>72.99</td>\n",
       "      <td>0.39</td>\n",
       "      <td>7.78</td>\n",
       "      <td>0.00</td>\n",
       "      <td>0.00</td>\n",
       "      <td>1</td>\n",
       "    </tr>\n",
       "    <tr>\n",
       "      <th>2</th>\n",
       "      <td>4</td>\n",
       "      <td>1.51766</td>\n",
       "      <td>13.21</td>\n",
       "      <td>3.69</td>\n",
       "      <td>1.29</td>\n",
       "      <td>72.61</td>\n",
       "      <td>0.57</td>\n",
       "      <td>8.22</td>\n",
       "      <td>0.00</td>\n",
       "      <td>0.00</td>\n",
       "      <td>1</td>\n",
       "    </tr>\n",
       "    <tr>\n",
       "      <th>3</th>\n",
       "      <td>5</td>\n",
       "      <td>1.51742</td>\n",
       "      <td>13.27</td>\n",
       "      <td>3.62</td>\n",
       "      <td>1.24</td>\n",
       "      <td>73.08</td>\n",
       "      <td>0.55</td>\n",
       "      <td>8.07</td>\n",
       "      <td>0.00</td>\n",
       "      <td>0.00</td>\n",
       "      <td>1</td>\n",
       "    </tr>\n",
       "    <tr>\n",
       "      <th>4</th>\n",
       "      <td>6</td>\n",
       "      <td>1.51596</td>\n",
       "      <td>12.79</td>\n",
       "      <td>3.61</td>\n",
       "      <td>1.62</td>\n",
       "      <td>72.97</td>\n",
       "      <td>0.64</td>\n",
       "      <td>8.07</td>\n",
       "      <td>0.00</td>\n",
       "      <td>0.26</td>\n",
       "      <td>1</td>\n",
       "    </tr>\n",
       "    <tr>\n",
       "      <th>...</th>\n",
       "      <td>...</td>\n",
       "      <td>...</td>\n",
       "      <td>...</td>\n",
       "      <td>...</td>\n",
       "      <td>...</td>\n",
       "      <td>...</td>\n",
       "      <td>...</td>\n",
       "      <td>...</td>\n",
       "      <td>...</td>\n",
       "      <td>...</td>\n",
       "      <td>...</td>\n",
       "    </tr>\n",
       "    <tr>\n",
       "      <th>208</th>\n",
       "      <td>210</td>\n",
       "      <td>1.51623</td>\n",
       "      <td>14.14</td>\n",
       "      <td>0.00</td>\n",
       "      <td>2.88</td>\n",
       "      <td>72.61</td>\n",
       "      <td>0.08</td>\n",
       "      <td>9.18</td>\n",
       "      <td>1.06</td>\n",
       "      <td>0.00</td>\n",
       "      <td>7</td>\n",
       "    </tr>\n",
       "    <tr>\n",
       "      <th>209</th>\n",
       "      <td>211</td>\n",
       "      <td>1.51685</td>\n",
       "      <td>14.92</td>\n",
       "      <td>0.00</td>\n",
       "      <td>1.99</td>\n",
       "      <td>73.06</td>\n",
       "      <td>0.00</td>\n",
       "      <td>8.40</td>\n",
       "      <td>1.59</td>\n",
       "      <td>0.00</td>\n",
       "      <td>7</td>\n",
       "    </tr>\n",
       "    <tr>\n",
       "      <th>210</th>\n",
       "      <td>212</td>\n",
       "      <td>1.52065</td>\n",
       "      <td>14.36</td>\n",
       "      <td>0.00</td>\n",
       "      <td>2.02</td>\n",
       "      <td>73.42</td>\n",
       "      <td>0.00</td>\n",
       "      <td>8.44</td>\n",
       "      <td>1.64</td>\n",
       "      <td>0.00</td>\n",
       "      <td>7</td>\n",
       "    </tr>\n",
       "    <tr>\n",
       "      <th>211</th>\n",
       "      <td>213</td>\n",
       "      <td>1.51651</td>\n",
       "      <td>14.38</td>\n",
       "      <td>0.00</td>\n",
       "      <td>1.94</td>\n",
       "      <td>73.61</td>\n",
       "      <td>0.00</td>\n",
       "      <td>8.48</td>\n",
       "      <td>1.57</td>\n",
       "      <td>0.00</td>\n",
       "      <td>7</td>\n",
       "    </tr>\n",
       "    <tr>\n",
       "      <th>212</th>\n",
       "      <td>214</td>\n",
       "      <td>1.51711</td>\n",
       "      <td>14.23</td>\n",
       "      <td>0.00</td>\n",
       "      <td>2.08</td>\n",
       "      <td>73.36</td>\n",
       "      <td>0.00</td>\n",
       "      <td>8.62</td>\n",
       "      <td>1.67</td>\n",
       "      <td>0.00</td>\n",
       "      <td>7</td>\n",
       "    </tr>\n",
       "  </tbody>\n",
       "</table>\n",
       "<p>213 rows × 11 columns</p>\n",
       "</div>"
      ],
      "text/plain": [
       "       1  1.52101  13.64  4.49  1.10  71.78  0.06  8.75  0.00  0.00.1  1.1\n",
       "0      2  1.51761  13.89  3.60  1.36  72.73  0.48  7.83  0.00    0.00    1\n",
       "1      3  1.51618  13.53  3.55  1.54  72.99  0.39  7.78  0.00    0.00    1\n",
       "2      4  1.51766  13.21  3.69  1.29  72.61  0.57  8.22  0.00    0.00    1\n",
       "3      5  1.51742  13.27  3.62  1.24  73.08  0.55  8.07  0.00    0.00    1\n",
       "4      6  1.51596  12.79  3.61  1.62  72.97  0.64  8.07  0.00    0.26    1\n",
       "..   ...      ...    ...   ...   ...    ...   ...   ...   ...     ...  ...\n",
       "208  210  1.51623  14.14  0.00  2.88  72.61  0.08  9.18  1.06    0.00    7\n",
       "209  211  1.51685  14.92  0.00  1.99  73.06  0.00  8.40  1.59    0.00    7\n",
       "210  212  1.52065  14.36  0.00  2.02  73.42  0.00  8.44  1.64    0.00    7\n",
       "211  213  1.51651  14.38  0.00  1.94  73.61  0.00  8.48  1.57    0.00    7\n",
       "212  214  1.51711  14.23  0.00  2.08  73.36  0.00  8.62  1.67    0.00    7\n",
       "\n",
       "[213 rows x 11 columns]"
      ]
     },
     "execution_count": 66,
     "metadata": {},
     "output_type": "execute_result"
    }
   ],
   "source": [
    "# Importing Dataset:\n",
    "\n",
    "glass = pd.read_csv(r\"https://raw.githubusercontent.com/dsrscientist/dataset3/main/glass.csv\")\n",
    "glass"
   ]
  },
  {
   "cell_type": "code",
   "execution_count": 67,
   "id": "fcc66f9d",
   "metadata": {},
   "outputs": [
    {
     "data": {
      "text/html": [
       "<div>\n",
       "<style scoped>\n",
       "    .dataframe tbody tr th:only-of-type {\n",
       "        vertical-align: middle;\n",
       "    }\n",
       "\n",
       "    .dataframe tbody tr th {\n",
       "        vertical-align: top;\n",
       "    }\n",
       "\n",
       "    .dataframe thead th {\n",
       "        text-align: right;\n",
       "    }\n",
       "</style>\n",
       "<table border=\"1\" class=\"dataframe\">\n",
       "  <thead>\n",
       "    <tr style=\"text-align: right;\">\n",
       "      <th></th>\n",
       "      <th>1</th>\n",
       "      <th>1.52101</th>\n",
       "      <th>13.64</th>\n",
       "      <th>4.49</th>\n",
       "      <th>1.10</th>\n",
       "      <th>71.78</th>\n",
       "      <th>0.06</th>\n",
       "      <th>8.75</th>\n",
       "      <th>0.00</th>\n",
       "      <th>0.00.1</th>\n",
       "      <th>1.1</th>\n",
       "    </tr>\n",
       "  </thead>\n",
       "  <tbody>\n",
       "    <tr>\n",
       "      <th>0</th>\n",
       "      <td>2</td>\n",
       "      <td>1.51761</td>\n",
       "      <td>13.89</td>\n",
       "      <td>3.60</td>\n",
       "      <td>1.36</td>\n",
       "      <td>72.73</td>\n",
       "      <td>0.48</td>\n",
       "      <td>7.83</td>\n",
       "      <td>0.0</td>\n",
       "      <td>0.00</td>\n",
       "      <td>1</td>\n",
       "    </tr>\n",
       "    <tr>\n",
       "      <th>1</th>\n",
       "      <td>3</td>\n",
       "      <td>1.51618</td>\n",
       "      <td>13.53</td>\n",
       "      <td>3.55</td>\n",
       "      <td>1.54</td>\n",
       "      <td>72.99</td>\n",
       "      <td>0.39</td>\n",
       "      <td>7.78</td>\n",
       "      <td>0.0</td>\n",
       "      <td>0.00</td>\n",
       "      <td>1</td>\n",
       "    </tr>\n",
       "    <tr>\n",
       "      <th>2</th>\n",
       "      <td>4</td>\n",
       "      <td>1.51766</td>\n",
       "      <td>13.21</td>\n",
       "      <td>3.69</td>\n",
       "      <td>1.29</td>\n",
       "      <td>72.61</td>\n",
       "      <td>0.57</td>\n",
       "      <td>8.22</td>\n",
       "      <td>0.0</td>\n",
       "      <td>0.00</td>\n",
       "      <td>1</td>\n",
       "    </tr>\n",
       "    <tr>\n",
       "      <th>3</th>\n",
       "      <td>5</td>\n",
       "      <td>1.51742</td>\n",
       "      <td>13.27</td>\n",
       "      <td>3.62</td>\n",
       "      <td>1.24</td>\n",
       "      <td>73.08</td>\n",
       "      <td>0.55</td>\n",
       "      <td>8.07</td>\n",
       "      <td>0.0</td>\n",
       "      <td>0.00</td>\n",
       "      <td>1</td>\n",
       "    </tr>\n",
       "    <tr>\n",
       "      <th>4</th>\n",
       "      <td>6</td>\n",
       "      <td>1.51596</td>\n",
       "      <td>12.79</td>\n",
       "      <td>3.61</td>\n",
       "      <td>1.62</td>\n",
       "      <td>72.97</td>\n",
       "      <td>0.64</td>\n",
       "      <td>8.07</td>\n",
       "      <td>0.0</td>\n",
       "      <td>0.26</td>\n",
       "      <td>1</td>\n",
       "    </tr>\n",
       "  </tbody>\n",
       "</table>\n",
       "</div>"
      ],
      "text/plain": [
       "   1  1.52101  13.64  4.49  1.10  71.78  0.06  8.75  0.00  0.00.1  1.1\n",
       "0  2  1.51761  13.89  3.60  1.36  72.73  0.48  7.83   0.0    0.00    1\n",
       "1  3  1.51618  13.53  3.55  1.54  72.99  0.39  7.78   0.0    0.00    1\n",
       "2  4  1.51766  13.21  3.69  1.29  72.61  0.57  8.22   0.0    0.00    1\n",
       "3  5  1.51742  13.27  3.62  1.24  73.08  0.55  8.07   0.0    0.00    1\n",
       "4  6  1.51596  12.79  3.61  1.62  72.97  0.64  8.07   0.0    0.26    1"
      ]
     },
     "execution_count": 67,
     "metadata": {},
     "output_type": "execute_result"
    }
   ],
   "source": [
    "# To display top 5 rows:\n",
    "\n",
    "glass.head()"
   ]
  },
  {
   "cell_type": "code",
   "execution_count": 68,
   "id": "f7159fcb",
   "metadata": {},
   "outputs": [
    {
     "data": {
      "text/plain": [
       "(213, 11)"
      ]
     },
     "execution_count": 68,
     "metadata": {},
     "output_type": "execute_result"
    }
   ],
   "source": [
    "glass.shape"
   ]
  },
  {
   "cell_type": "markdown",
   "id": "1b436452",
   "metadata": {},
   "source": [
    "**There are 213 rows and 11 columns.**"
   ]
  },
  {
   "cell_type": "code",
   "execution_count": 69,
   "id": "a14f374a",
   "metadata": {},
   "outputs": [
    {
     "data": {
      "text/plain": [
       "Index(['1', '1.52101', '13.64', '4.49', '1.10', '71.78', '0.06', '8.75',\n",
       "       '0.00', '0.00.1', '1.1'],\n",
       "      dtype='object')"
      ]
     },
     "execution_count": 69,
     "metadata": {},
     "output_type": "execute_result"
    }
   ],
   "source": [
    "glass.columns"
   ]
  },
  {
   "cell_type": "code",
   "execution_count": 70,
   "id": "5f2362d0",
   "metadata": {},
   "outputs": [
    {
     "data": {
      "text/html": [
       "<div>\n",
       "<style scoped>\n",
       "    .dataframe tbody tr th:only-of-type {\n",
       "        vertical-align: middle;\n",
       "    }\n",
       "\n",
       "    .dataframe tbody tr th {\n",
       "        vertical-align: top;\n",
       "    }\n",
       "\n",
       "    .dataframe thead th {\n",
       "        text-align: right;\n",
       "    }\n",
       "</style>\n",
       "<table border=\"1\" class=\"dataframe\">\n",
       "  <thead>\n",
       "    <tr style=\"text-align: right;\">\n",
       "      <th></th>\n",
       "      <th>id</th>\n",
       "      <th>RI</th>\n",
       "      <th>Na</th>\n",
       "      <th>Mg</th>\n",
       "      <th>Al</th>\n",
       "      <th>Si</th>\n",
       "      <th>K</th>\n",
       "      <th>Ca</th>\n",
       "      <th>Ba</th>\n",
       "      <th>Fe</th>\n",
       "      <th>Type of glass</th>\n",
       "    </tr>\n",
       "  </thead>\n",
       "  <tbody>\n",
       "    <tr>\n",
       "      <th>0</th>\n",
       "      <td>2</td>\n",
       "      <td>1.51761</td>\n",
       "      <td>13.89</td>\n",
       "      <td>3.60</td>\n",
       "      <td>1.36</td>\n",
       "      <td>72.73</td>\n",
       "      <td>0.48</td>\n",
       "      <td>7.83</td>\n",
       "      <td>0.0</td>\n",
       "      <td>0.00</td>\n",
       "      <td>1</td>\n",
       "    </tr>\n",
       "    <tr>\n",
       "      <th>1</th>\n",
       "      <td>3</td>\n",
       "      <td>1.51618</td>\n",
       "      <td>13.53</td>\n",
       "      <td>3.55</td>\n",
       "      <td>1.54</td>\n",
       "      <td>72.99</td>\n",
       "      <td>0.39</td>\n",
       "      <td>7.78</td>\n",
       "      <td>0.0</td>\n",
       "      <td>0.00</td>\n",
       "      <td>1</td>\n",
       "    </tr>\n",
       "    <tr>\n",
       "      <th>2</th>\n",
       "      <td>4</td>\n",
       "      <td>1.51766</td>\n",
       "      <td>13.21</td>\n",
       "      <td>3.69</td>\n",
       "      <td>1.29</td>\n",
       "      <td>72.61</td>\n",
       "      <td>0.57</td>\n",
       "      <td>8.22</td>\n",
       "      <td>0.0</td>\n",
       "      <td>0.00</td>\n",
       "      <td>1</td>\n",
       "    </tr>\n",
       "    <tr>\n",
       "      <th>3</th>\n",
       "      <td>5</td>\n",
       "      <td>1.51742</td>\n",
       "      <td>13.27</td>\n",
       "      <td>3.62</td>\n",
       "      <td>1.24</td>\n",
       "      <td>73.08</td>\n",
       "      <td>0.55</td>\n",
       "      <td>8.07</td>\n",
       "      <td>0.0</td>\n",
       "      <td>0.00</td>\n",
       "      <td>1</td>\n",
       "    </tr>\n",
       "    <tr>\n",
       "      <th>4</th>\n",
       "      <td>6</td>\n",
       "      <td>1.51596</td>\n",
       "      <td>12.79</td>\n",
       "      <td>3.61</td>\n",
       "      <td>1.62</td>\n",
       "      <td>72.97</td>\n",
       "      <td>0.64</td>\n",
       "      <td>8.07</td>\n",
       "      <td>0.0</td>\n",
       "      <td>0.26</td>\n",
       "      <td>1</td>\n",
       "    </tr>\n",
       "  </tbody>\n",
       "</table>\n",
       "</div>"
      ],
      "text/plain": [
       "   id       RI     Na    Mg    Al     Si     K    Ca   Ba    Fe  Type of glass\n",
       "0   2  1.51761  13.89  3.60  1.36  72.73  0.48  7.83  0.0  0.00              1\n",
       "1   3  1.51618  13.53  3.55  1.54  72.99  0.39  7.78  0.0  0.00              1\n",
       "2   4  1.51766  13.21  3.69  1.29  72.61  0.57  8.22  0.0  0.00              1\n",
       "3   5  1.51742  13.27  3.62  1.24  73.08  0.55  8.07  0.0  0.00              1\n",
       "4   6  1.51596  12.79  3.61  1.62  72.97  0.64  8.07  0.0  0.26              1"
      ]
     },
     "execution_count": 70,
     "metadata": {},
     "output_type": "execute_result"
    }
   ],
   "source": [
    "# Renaming columns to understand better:\n",
    "\n",
    "glass.set_axis(['id', 'RI', 'Na','Mg','Al','Si','K','Ca','Ba','Fe','Type of glass'], axis='columns', inplace=True)\n",
    "glass.head()\n",
    "\n",
    "#set_axis() is used to rename columns/rows name , axis = 'columns' means we want to change columns name.\n",
    "# Here we can also change rows name , but we have to provide enough rows name (i.e 213 names for 213 rows)"
   ]
  },
  {
   "cell_type": "code",
   "execution_count": 71,
   "id": "e122250f",
   "metadata": {},
   "outputs": [
    {
     "data": {
      "text/plain": [
       "id               0\n",
       "RI               0\n",
       "Na               0\n",
       "Mg               0\n",
       "Al               0\n",
       "Si               0\n",
       "K                0\n",
       "Ca               0\n",
       "Ba               0\n",
       "Fe               0\n",
       "Type of glass    0\n",
       "dtype: int64"
      ]
     },
     "execution_count": 71,
     "metadata": {},
     "output_type": "execute_result"
    }
   ],
   "source": [
    "# Finding null values\n",
    "\n",
    "glass.isnull().sum()"
   ]
  },
  {
   "cell_type": "markdown",
   "id": "101ef6d5",
   "metadata": {},
   "source": [
    "**Great , There is no null values , we can go ahead.**"
   ]
  },
  {
   "cell_type": "code",
   "execution_count": 72,
   "id": "482e677c",
   "metadata": {},
   "outputs": [
    {
     "data": {
      "text/html": [
       "<div>\n",
       "<style scoped>\n",
       "    .dataframe tbody tr th:only-of-type {\n",
       "        vertical-align: middle;\n",
       "    }\n",
       "\n",
       "    .dataframe tbody tr th {\n",
       "        vertical-align: top;\n",
       "    }\n",
       "\n",
       "    .dataframe thead th {\n",
       "        text-align: right;\n",
       "    }\n",
       "</style>\n",
       "<table border=\"1\" class=\"dataframe\">\n",
       "  <thead>\n",
       "    <tr style=\"text-align: right;\">\n",
       "      <th></th>\n",
       "      <th>id</th>\n",
       "      <th>RI</th>\n",
       "      <th>Na</th>\n",
       "      <th>Mg</th>\n",
       "      <th>Al</th>\n",
       "      <th>Si</th>\n",
       "      <th>K</th>\n",
       "      <th>Ca</th>\n",
       "      <th>Ba</th>\n",
       "      <th>Fe</th>\n",
       "      <th>Type of glass</th>\n",
       "    </tr>\n",
       "  </thead>\n",
       "  <tbody>\n",
       "    <tr>\n",
       "      <th>count</th>\n",
       "      <td>213.000000</td>\n",
       "      <td>213.000000</td>\n",
       "      <td>213.000000</td>\n",
       "      <td>213.000000</td>\n",
       "      <td>213.000000</td>\n",
       "      <td>213.000000</td>\n",
       "      <td>213.000000</td>\n",
       "      <td>213.000000</td>\n",
       "      <td>213.000000</td>\n",
       "      <td>213.000000</td>\n",
       "      <td>213.000000</td>\n",
       "    </tr>\n",
       "    <tr>\n",
       "      <th>mean</th>\n",
       "      <td>108.000000</td>\n",
       "      <td>1.518353</td>\n",
       "      <td>13.406761</td>\n",
       "      <td>2.676056</td>\n",
       "      <td>1.446526</td>\n",
       "      <td>72.655023</td>\n",
       "      <td>0.499108</td>\n",
       "      <td>8.957934</td>\n",
       "      <td>0.175869</td>\n",
       "      <td>0.057277</td>\n",
       "      <td>2.788732</td>\n",
       "    </tr>\n",
       "    <tr>\n",
       "      <th>std</th>\n",
       "      <td>61.631972</td>\n",
       "      <td>0.003039</td>\n",
       "      <td>0.818371</td>\n",
       "      <td>1.440453</td>\n",
       "      <td>0.499882</td>\n",
       "      <td>0.774052</td>\n",
       "      <td>0.653035</td>\n",
       "      <td>1.426435</td>\n",
       "      <td>0.498245</td>\n",
       "      <td>0.097589</td>\n",
       "      <td>2.105130</td>\n",
       "    </tr>\n",
       "    <tr>\n",
       "      <th>min</th>\n",
       "      <td>2.000000</td>\n",
       "      <td>1.511150</td>\n",
       "      <td>10.730000</td>\n",
       "      <td>0.000000</td>\n",
       "      <td>0.290000</td>\n",
       "      <td>69.810000</td>\n",
       "      <td>0.000000</td>\n",
       "      <td>5.430000</td>\n",
       "      <td>0.000000</td>\n",
       "      <td>0.000000</td>\n",
       "      <td>1.000000</td>\n",
       "    </tr>\n",
       "    <tr>\n",
       "      <th>25%</th>\n",
       "      <td>55.000000</td>\n",
       "      <td>1.516520</td>\n",
       "      <td>12.900000</td>\n",
       "      <td>2.090000</td>\n",
       "      <td>1.190000</td>\n",
       "      <td>72.280000</td>\n",
       "      <td>0.130000</td>\n",
       "      <td>8.240000</td>\n",
       "      <td>0.000000</td>\n",
       "      <td>0.000000</td>\n",
       "      <td>1.000000</td>\n",
       "    </tr>\n",
       "    <tr>\n",
       "      <th>50%</th>\n",
       "      <td>108.000000</td>\n",
       "      <td>1.517680</td>\n",
       "      <td>13.300000</td>\n",
       "      <td>3.480000</td>\n",
       "      <td>1.360000</td>\n",
       "      <td>72.790000</td>\n",
       "      <td>0.560000</td>\n",
       "      <td>8.600000</td>\n",
       "      <td>0.000000</td>\n",
       "      <td>0.000000</td>\n",
       "      <td>2.000000</td>\n",
       "    </tr>\n",
       "    <tr>\n",
       "      <th>75%</th>\n",
       "      <td>161.000000</td>\n",
       "      <td>1.519150</td>\n",
       "      <td>13.830000</td>\n",
       "      <td>3.600000</td>\n",
       "      <td>1.630000</td>\n",
       "      <td>73.090000</td>\n",
       "      <td>0.610000</td>\n",
       "      <td>9.180000</td>\n",
       "      <td>0.000000</td>\n",
       "      <td>0.100000</td>\n",
       "      <td>3.000000</td>\n",
       "    </tr>\n",
       "    <tr>\n",
       "      <th>max</th>\n",
       "      <td>214.000000</td>\n",
       "      <td>1.533930</td>\n",
       "      <td>17.380000</td>\n",
       "      <td>3.980000</td>\n",
       "      <td>3.500000</td>\n",
       "      <td>75.410000</td>\n",
       "      <td>6.210000</td>\n",
       "      <td>16.190000</td>\n",
       "      <td>3.150000</td>\n",
       "      <td>0.510000</td>\n",
       "      <td>7.000000</td>\n",
       "    </tr>\n",
       "  </tbody>\n",
       "</table>\n",
       "</div>"
      ],
      "text/plain": [
       "               id          RI          Na          Mg          Al          Si  \\\n",
       "count  213.000000  213.000000  213.000000  213.000000  213.000000  213.000000   \n",
       "mean   108.000000    1.518353   13.406761    2.676056    1.446526   72.655023   \n",
       "std     61.631972    0.003039    0.818371    1.440453    0.499882    0.774052   \n",
       "min      2.000000    1.511150   10.730000    0.000000    0.290000   69.810000   \n",
       "25%     55.000000    1.516520   12.900000    2.090000    1.190000   72.280000   \n",
       "50%    108.000000    1.517680   13.300000    3.480000    1.360000   72.790000   \n",
       "75%    161.000000    1.519150   13.830000    3.600000    1.630000   73.090000   \n",
       "max    214.000000    1.533930   17.380000    3.980000    3.500000   75.410000   \n",
       "\n",
       "                K          Ca          Ba          Fe  Type of glass  \n",
       "count  213.000000  213.000000  213.000000  213.000000     213.000000  \n",
       "mean     0.499108    8.957934    0.175869    0.057277       2.788732  \n",
       "std      0.653035    1.426435    0.498245    0.097589       2.105130  \n",
       "min      0.000000    5.430000    0.000000    0.000000       1.000000  \n",
       "25%      0.130000    8.240000    0.000000    0.000000       1.000000  \n",
       "50%      0.560000    8.600000    0.000000    0.000000       2.000000  \n",
       "75%      0.610000    9.180000    0.000000    0.100000       3.000000  \n",
       "max      6.210000   16.190000    3.150000    0.510000       7.000000  "
      ]
     },
     "execution_count": 72,
     "metadata": {},
     "output_type": "execute_result"
    }
   ],
   "source": [
    "glass.describe()"
   ]
  },
  {
   "cell_type": "markdown",
   "id": "ebdc9f8f",
   "metadata": {},
   "source": [
    "**There are some columns which have zero values , like Ba or Fe . So we have to replace these values.**\n",
    "\n",
    "We will replace these zero values with the mean of the other values of that column , we will take mean because data is continuous."
   ]
  },
  {
   "cell_type": "code",
   "execution_count": 73,
   "id": "2403ac29",
   "metadata": {},
   "outputs": [],
   "source": [
    "glass['Ba']=glass['Ba'].replace(0,glass['Ba'].mean())\n",
    "glass['Fe']=glass['Fe'].replace(0,glass['Fe'].mean())"
   ]
  },
  {
   "cell_type": "code",
   "execution_count": 74,
   "id": "17ae94a3",
   "metadata": {},
   "outputs": [
    {
     "data": {
      "text/html": [
       "<div>\n",
       "<style scoped>\n",
       "    .dataframe tbody tr th:only-of-type {\n",
       "        vertical-align: middle;\n",
       "    }\n",
       "\n",
       "    .dataframe tbody tr th {\n",
       "        vertical-align: top;\n",
       "    }\n",
       "\n",
       "    .dataframe thead th {\n",
       "        text-align: right;\n",
       "    }\n",
       "</style>\n",
       "<table border=\"1\" class=\"dataframe\">\n",
       "  <thead>\n",
       "    <tr style=\"text-align: right;\">\n",
       "      <th></th>\n",
       "      <th>id</th>\n",
       "      <th>RI</th>\n",
       "      <th>Na</th>\n",
       "      <th>Mg</th>\n",
       "      <th>Al</th>\n",
       "      <th>Si</th>\n",
       "      <th>K</th>\n",
       "      <th>Ca</th>\n",
       "      <th>Ba</th>\n",
       "      <th>Fe</th>\n",
       "      <th>Type of glass</th>\n",
       "    </tr>\n",
       "  </thead>\n",
       "  <tbody>\n",
       "    <tr>\n",
       "      <th>count</th>\n",
       "      <td>213.000000</td>\n",
       "      <td>213.000000</td>\n",
       "      <td>213.000000</td>\n",
       "      <td>213.000000</td>\n",
       "      <td>213.000000</td>\n",
       "      <td>213.000000</td>\n",
       "      <td>213.000000</td>\n",
       "      <td>213.000000</td>\n",
       "      <td>213.000000</td>\n",
       "      <td>213.000000</td>\n",
       "      <td>213.000000</td>\n",
       "    </tr>\n",
       "    <tr>\n",
       "      <th>mean</th>\n",
       "      <td>108.000000</td>\n",
       "      <td>1.518353</td>\n",
       "      <td>13.406761</td>\n",
       "      <td>2.676056</td>\n",
       "      <td>1.446526</td>\n",
       "      <td>72.655023</td>\n",
       "      <td>0.499108</td>\n",
       "      <td>8.957934</td>\n",
       "      <td>0.320361</td>\n",
       "      <td>0.095731</td>\n",
       "      <td>2.788732</td>\n",
       "    </tr>\n",
       "    <tr>\n",
       "      <th>std</th>\n",
       "      <td>61.631972</td>\n",
       "      <td>0.003039</td>\n",
       "      <td>0.818371</td>\n",
       "      <td>1.440453</td>\n",
       "      <td>0.499882</td>\n",
       "      <td>0.774052</td>\n",
       "      <td>0.653035</td>\n",
       "      <td>1.426435</td>\n",
       "      <td>0.449154</td>\n",
       "      <td>0.076323</td>\n",
       "      <td>2.105130</td>\n",
       "    </tr>\n",
       "    <tr>\n",
       "      <th>min</th>\n",
       "      <td>2.000000</td>\n",
       "      <td>1.511150</td>\n",
       "      <td>10.730000</td>\n",
       "      <td>0.000000</td>\n",
       "      <td>0.290000</td>\n",
       "      <td>69.810000</td>\n",
       "      <td>0.000000</td>\n",
       "      <td>5.430000</td>\n",
       "      <td>0.060000</td>\n",
       "      <td>0.010000</td>\n",
       "      <td>1.000000</td>\n",
       "    </tr>\n",
       "    <tr>\n",
       "      <th>25%</th>\n",
       "      <td>55.000000</td>\n",
       "      <td>1.516520</td>\n",
       "      <td>12.900000</td>\n",
       "      <td>2.090000</td>\n",
       "      <td>1.190000</td>\n",
       "      <td>72.280000</td>\n",
       "      <td>0.130000</td>\n",
       "      <td>8.240000</td>\n",
       "      <td>0.175869</td>\n",
       "      <td>0.057277</td>\n",
       "      <td>1.000000</td>\n",
       "    </tr>\n",
       "    <tr>\n",
       "      <th>50%</th>\n",
       "      <td>108.000000</td>\n",
       "      <td>1.517680</td>\n",
       "      <td>13.300000</td>\n",
       "      <td>3.480000</td>\n",
       "      <td>1.360000</td>\n",
       "      <td>72.790000</td>\n",
       "      <td>0.560000</td>\n",
       "      <td>8.600000</td>\n",
       "      <td>0.175869</td>\n",
       "      <td>0.057277</td>\n",
       "      <td>2.000000</td>\n",
       "    </tr>\n",
       "    <tr>\n",
       "      <th>75%</th>\n",
       "      <td>161.000000</td>\n",
       "      <td>1.519150</td>\n",
       "      <td>13.830000</td>\n",
       "      <td>3.600000</td>\n",
       "      <td>1.630000</td>\n",
       "      <td>73.090000</td>\n",
       "      <td>0.610000</td>\n",
       "      <td>9.180000</td>\n",
       "      <td>0.175869</td>\n",
       "      <td>0.100000</td>\n",
       "      <td>3.000000</td>\n",
       "    </tr>\n",
       "    <tr>\n",
       "      <th>max</th>\n",
       "      <td>214.000000</td>\n",
       "      <td>1.533930</td>\n",
       "      <td>17.380000</td>\n",
       "      <td>3.980000</td>\n",
       "      <td>3.500000</td>\n",
       "      <td>75.410000</td>\n",
       "      <td>6.210000</td>\n",
       "      <td>16.190000</td>\n",
       "      <td>3.150000</td>\n",
       "      <td>0.510000</td>\n",
       "      <td>7.000000</td>\n",
       "    </tr>\n",
       "  </tbody>\n",
       "</table>\n",
       "</div>"
      ],
      "text/plain": [
       "               id          RI          Na          Mg          Al          Si  \\\n",
       "count  213.000000  213.000000  213.000000  213.000000  213.000000  213.000000   \n",
       "mean   108.000000    1.518353   13.406761    2.676056    1.446526   72.655023   \n",
       "std     61.631972    0.003039    0.818371    1.440453    0.499882    0.774052   \n",
       "min      2.000000    1.511150   10.730000    0.000000    0.290000   69.810000   \n",
       "25%     55.000000    1.516520   12.900000    2.090000    1.190000   72.280000   \n",
       "50%    108.000000    1.517680   13.300000    3.480000    1.360000   72.790000   \n",
       "75%    161.000000    1.519150   13.830000    3.600000    1.630000   73.090000   \n",
       "max    214.000000    1.533930   17.380000    3.980000    3.500000   75.410000   \n",
       "\n",
       "                K          Ca          Ba          Fe  Type of glass  \n",
       "count  213.000000  213.000000  213.000000  213.000000     213.000000  \n",
       "mean     0.499108    8.957934    0.320361    0.095731       2.788732  \n",
       "std      0.653035    1.426435    0.449154    0.076323       2.105130  \n",
       "min      0.000000    5.430000    0.060000    0.010000       1.000000  \n",
       "25%      0.130000    8.240000    0.175869    0.057277       1.000000  \n",
       "50%      0.560000    8.600000    0.175869    0.057277       2.000000  \n",
       "75%      0.610000    9.180000    0.175869    0.100000       3.000000  \n",
       "max      6.210000   16.190000    3.150000    0.510000       7.000000  "
      ]
     },
     "execution_count": 74,
     "metadata": {},
     "output_type": "execute_result"
    }
   ],
   "source": [
    "# Let's Verify:\n",
    "\n",
    "glass.describe()"
   ]
  },
  {
   "cell_type": "markdown",
   "id": "2dde4daa",
   "metadata": {},
   "source": [
    "**So , there is no zero value in any column. So , It is verified.**"
   ]
  },
  {
   "cell_type": "markdown",
   "id": "950f5235",
   "metadata": {},
   "source": [
    "# Data Distribution:"
   ]
  },
  {
   "cell_type": "code",
   "execution_count": 75,
   "id": "aa598583",
   "metadata": {},
   "outputs": [
    {
     "data": {
      "text/plain": [
       "<AxesSubplot:xlabel='RI', ylabel='Density'>"
      ]
     },
     "execution_count": 75,
     "metadata": {},
     "output_type": "execute_result"
    },
    {
     "data": {
      "image/png": "[encoded data removed]",
      "text/plain": [
       "<Figure size 432x288 with 1 Axes>"
      ]
     },
     "metadata": {
      "needs_background": "light"
     },
     "output_type": "display_data"
    }
   ],
   "source": [
    "sns.distplot(glass['RI'])"
   ]
  },
  {
   "cell_type": "code",
   "execution_count": 76,
   "id": "2eea2a5c",
   "metadata": {},
   "outputs": [
    {
     "data": {
      "text/plain": [
       "<AxesSubplot:xlabel='Na', ylabel='Density'>"
      ]
     },
     "execution_count": 76,
     "metadata": {},
     "output_type": "execute_result"
    },
    {
     "data": {
      "image/png": "[encoded data removed]",
      "text/plain": [
       "<Figure size 432x288 with 1 Axes>"
      ]
     },
     "metadata": {
      "needs_background": "light"
     },
     "output_type": "display_data"
    }
   ],
   "source": [
    "sns.distplot(glass['Na'])"
   ]
  },
  {
   "cell_type": "code",
   "execution_count": 77,
   "id": "6adc6a3d",
   "metadata": {},
   "outputs": [
    {
     "data": {
      "text/plain": [
       "<AxesSubplot:xlabel='Mg', ylabel='Density'>"
      ]
     },
     "execution_count": 77,
     "metadata": {},
     "output_type": "execute_result"
    },
    {
     "data": {
      "image/png": "[encoded data removed]",
      "text/plain": [
       "<Figure size 432x288 with 1 Axes>"
      ]
     },
     "metadata": {
      "needs_background": "light"
     },
     "output_type": "display_data"
    }
   ],
   "source": [
    "sns.distplot(glass['Mg'])\n"
   ]
  },
  {
   "cell_type": "code",
   "execution_count": 78,
   "id": "260a8bb0",
   "metadata": {},
   "outputs": [
    {
     "data": {
      "text/plain": [
       "<AxesSubplot:xlabel='Al', ylabel='Density'>"
      ]
     },
     "execution_count": 78,
     "metadata": {},
     "output_type": "execute_result"
    },
    {
     "data": {
      "image/png": "[encoded data removed]",
      "text/plain": [
       "<Figure size 432x288 with 1 Axes>"
      ]
     },
     "metadata": {
      "needs_background": "light"
     },
     "output_type": "display_data"
    }
   ],
   "source": [
    "sns.distplot(glass['Al'])"
   ]
  },
  {
   "cell_type": "code",
   "execution_count": 79,
   "id": "981d352b",
   "metadata": {},
   "outputs": [
    {
     "data": {
      "text/plain": [
       "<AxesSubplot:xlabel='Si', ylabel='Density'>"
      ]
     },
     "execution_count": 79,
     "metadata": {},
     "output_type": "execute_result"
    },
    {
     "data": {
      "image/png": "[encoded data removed]",
      "text/plain": [
       "<Figure size 432x288 with 1 Axes>"
      ]
     },
     "metadata": {
      "needs_background": "light"
     },
     "output_type": "display_data"
    }
   ],
   "source": [
    "sns.distplot(glass['Si'])"
   ]
  },
  {
   "cell_type": "code",
   "execution_count": 80,
   "id": "301b5219",
   "metadata": {},
   "outputs": [
    {
     "data": {
      "text/plain": [
       "<AxesSubplot:xlabel='K', ylabel='Density'>"
      ]
     },
     "execution_count": 80,
     "metadata": {},
     "output_type": "execute_result"
    },
    {
     "data": {
      "image/png": "[encoded data removed]",
      "text/plain": [
       "<Figure size 432x288 with 1 Axes>"
      ]
     },
     "metadata": {
      "needs_background": "light"
     },
     "output_type": "display_data"
    }
   ],
   "source": [
    "sns.distplot(glass['K'])"
   ]
  },
  {
   "cell_type": "code",
   "execution_count": 81,
   "id": "bcde18b5",
   "metadata": {},
   "outputs": [
    {
     "data": {
      "text/plain": [
       "<AxesSubplot:xlabel='Ca', ylabel='Density'>"
      ]
     },
     "execution_count": 81,
     "metadata": {},
     "output_type": "execute_result"
    },
    {
     "data": {
      "image/png": "[encoded data removed]",
      "text/plain": [
       "<Figure size 432x288 with 1 Axes>"
      ]
     },
     "metadata": {
      "needs_background": "light"
     },
     "output_type": "display_data"
    }
   ],
   "source": [
    "sns.distplot(glass['Ca'])"
   ]
  },
  {
   "cell_type": "code",
   "execution_count": 82,
   "id": "7a0e6986",
   "metadata": {},
   "outputs": [
    {
     "data": {
      "text/plain": [
       "<AxesSubplot:xlabel='Ba', ylabel='Density'>"
      ]
     },
     "execution_count": 82,
     "metadata": {},
     "output_type": "execute_result"
    },
    {
     "data": {
      "image/png": "[encoded data removed]",
      "text/plain": [
       "<Figure size 432x288 with 1 Axes>"
      ]
     },
     "metadata": {
      "needs_background": "light"
     },
     "output_type": "display_data"
    }
   ],
   "source": [
    "sns.distplot(glass['Ba'])"
   ]
  },
  {
   "cell_type": "code",
   "execution_count": 83,
   "id": "27b48edc",
   "metadata": {},
   "outputs": [
    {
     "data": {
      "text/plain": [
       "<AxesSubplot:xlabel='Fe', ylabel='Density'>"
      ]
     },
     "execution_count": 83,
     "metadata": {},
     "output_type": "execute_result"
    },
    {
     "data": {
      "image/png": "[encoded data removed]",
      "text/plain": [
       "<Figure size 432x288 with 1 Axes>"
      ]
     },
     "metadata": {
      "needs_background": "light"
     },
     "output_type": "display_data"
    }
   ],
   "source": [
    "sns.distplot(glass['Fe'])"
   ]
  },
  {
   "cell_type": "code",
   "execution_count": 84,
   "id": "86a03ed6",
   "metadata": {},
   "outputs": [
    {
     "data": {
      "text/plain": [
       "id               0.000000\n",
       "RI               1.639658\n",
       "Na               0.457318\n",
       "Mg              -1.154323\n",
       "Al               0.900017\n",
       "Si              -0.744546\n",
       "K                6.549276\n",
       "Ca               2.040591\n",
       "Ba               3.692318\n",
       "Fe               2.284710\n",
       "Type of glass    1.108861\n",
       "dtype: float64"
      ]
     },
     "execution_count": 84,
     "metadata": {},
     "output_type": "execute_result"
    }
   ],
   "source": [
    "# Let's detect skewness\n",
    "\n",
    "glass.skew()"
   ]
  },
  {
   "cell_type": "markdown",
   "id": "b067e8fe",
   "metadata": {},
   "source": [
    "**There is very much skewness in dataset. Due to this skewness , above distribution plots are not symmetric , let's use power transformer to make these plots symmetric.**"
   ]
  },
  {
   "cell_type": "code",
   "execution_count": 85,
   "id": "f18c424f",
   "metadata": {},
   "outputs": [
    {
     "data": {
      "text/plain": [
       "<bound method NDFrame._add_numeric_operations.<locals>.skew of 0      0.417137\n",
       "1      0.416194\n",
       "2      0.417170\n",
       "3      0.417012\n",
       "4      0.416049\n",
       "         ...   \n",
       "208    0.416227\n",
       "209    0.416636\n",
       "210    0.419138\n",
       "211    0.416412\n",
       "212    0.416807\n",
       "Name: RI, Length: 213, dtype: float64>"
      ]
     },
     "execution_count": 85,
     "metadata": {},
     "output_type": "execute_result"
    }
   ],
   "source": [
    "glass_log=np.log(glass['RI'])\n",
    "glass_log.skew"
   ]
  },
  {
   "cell_type": "code",
   "execution_count": 86,
   "id": "5097fc68",
   "metadata": {},
   "outputs": [],
   "source": [
    "from sklearn.preprocessing import PowerTransformer\n",
    "import seaborn as sns"
   ]
  },
  {
   "cell_type": "code",
   "execution_count": 87,
   "id": "dd9401ee",
   "metadata": {},
   "outputs": [],
   "source": [
    "features=['Ba','Fe','Ca','K','Si','Al','Mg','RI']\n",
    "scaler=PowerTransformer(method='yeo-johnson')\n",
    "glass[features]=scaler.fit_transform(glass[features].values)"
   ]
  },
  {
   "cell_type": "code",
   "execution_count": 88,
   "id": "c76a9688",
   "metadata": {},
   "outputs": [
    {
     "data": {
      "text/plain": [
       "id               0.000000\n",
       "RI               0.000000\n",
       "Na               0.457318\n",
       "Mg              -0.911150\n",
       "Al               0.000874\n",
       "Si               0.133867\n",
       "K               -0.075233\n",
       "Ca              -0.207808\n",
       "Ba               1.074926\n",
       "Fe               0.611737\n",
       "Type of glass    1.108861\n",
       "dtype: float64"
      ]
     },
     "execution_count": 88,
     "metadata": {},
     "output_type": "execute_result"
    }
   ],
   "source": [
    "# Let's verify skewness now:\n",
    "\n",
    "glass.skew()"
   ]
  },
  {
   "cell_type": "markdown",
   "id": "0d14088d",
   "metadata": {},
   "source": [
    "**Still , there is some skewness in few columns.**"
   ]
  },
  {
   "cell_type": "markdown",
   "id": "81e84cfe",
   "metadata": {},
   "source": [
    "**Let's visualize these skewness using box plot to understant better.**\n"
   ]
  },
  {
   "cell_type": "code",
   "execution_count": 89,
   "id": "730dd0bc",
   "metadata": {},
   "outputs": [
    {
     "data": {
      "text/plain": [
       "<AxesSubplot:xlabel='Type of glass', ylabel='Fe'>"
      ]
     },
     "execution_count": 89,
     "metadata": {},
     "output_type": "execute_result"
    },
    {
     "data": {
      "image/png": "[encoded data removed]",
      "text/plain": [
       "<Figure size 432x288 with 1 Axes>"
      ]
     },
     "metadata": {
      "needs_background": "light"
     },
     "output_type": "display_data"
    }
   ],
   "source": [
    "sns.boxplot('Type of glass', 'RI', data=glass)"
   ]
  },
  {
   "cell_type": "code",
   "execution_count": 90,
   "id": "940274d6",
   "metadata": {},
   "outputs": [
    {
     "data": {
      "text/plain": [
       "<AxesSubplot:xlabel='Type of glass', ylabel='Na'>"
      ]
     },
     "execution_count": 90,
     "metadata": {},
     "output_type": "execute_result"
    },
    {
     "data": {
      "image/png": "[encoded data removed]",
      "text/plain": [
       "<Figure size 432x288 with 1 Axes>"
      ]
     },
     "metadata": {
      "needs_background": "light"
     },
     "output_type": "display_data"
    }
   ],
   "source": [
    "sns.boxplot('Type of glass', 'Na', data=glass)"
   ]
  },
  {
   "cell_type": "code",
   "execution_count": 91,
   "id": "b5ae6786",
   "metadata": {},
   "outputs": [
    {
     "data": {
      "text/plain": [
       "<AxesSubplot:xlabel='Type of glass', ylabel='Mg'>"
      ]
     },
     "execution_count": 91,
     "metadata": {},
     "output_type": "execute_result"
    },
    {
     "data": {
      "image/png": "[encoded data removed]",
      "text/plain": [
       "<Figure size 432x288 with 1 Axes>"
      ]
     },
     "metadata": {
      "needs_background": "light"
     },
     "output_type": "display_data"
    }
   ],
   "source": [
    "sns.boxplot('Type of glass', 'Mg', data=glass)"
   ]
  },
  {
   "cell_type": "code",
   "execution_count": 92,
   "id": "909a3f2c",
   "metadata": {},
   "outputs": [
    {
     "data": {
      "text/plain": [
       "<AxesSubplot:xlabel='Type of glass', ylabel='Al'>"
      ]
     },
     "execution_count": 92,
     "metadata": {},
     "output_type": "execute_result"
    },
    {
     "data": {
      "image/png": "[encoded data removed]",
      "text/plain": [
       "<Figure size 432x288 with 1 Axes>"
      ]
     },
     "metadata": {
      "needs_background": "light"
     },
     "output_type": "display_data"
    }
   ],
   "source": [
    "sns.boxplot('Type of glass', 'Al', data=glass)"
   ]
  },
  {
   "cell_type": "code",
   "execution_count": 93,
   "id": "4a591f28",
   "metadata": {},
   "outputs": [
    {
     "data": {
      "text/plain": [
       "<AxesSubplot:xlabel='Type of glass', ylabel='Si'>"
      ]
     },
     "execution_count": 93,
     "metadata": {},
     "output_type": "execute_result"
    },
    {
     "data": {
      "image/png": "[encoded data removed]",
      "text/plain": [
       "<Figure size 432x288 with 1 Axes>"
      ]
     },
     "metadata": {
      "needs_background": "light"
     },
     "output_type": "display_data"
    }
   ],
   "source": [
    "sns.boxplot('Type of glass', 'Si', data=glass)"
   ]
  },
  {
   "cell_type": "code",
   "execution_count": 94,
   "id": "0998b744",
   "metadata": {},
   "outputs": [
    {
     "data": {
      "text/plain": [
       "<AxesSubplot:xlabel='Type of glass', ylabel='K'>"
      ]
     },
     "execution_count": 94,
     "metadata": {},
     "output_type": "execute_result"
    },
    {
     "data": {
      "image/png": "[encoded data removed]",
      "text/plain": [
       "<Figure size 432x288 with 1 Axes>"
      ]
     },
     "metadata": {
      "needs_background": "light"
     },
     "output_type": "display_data"
    }
   ],
   "source": [
    "sns.boxplot('Type of glass', 'K', data=glass)"
   ]
  },
  {
   "cell_type": "code",
   "execution_count": 95,
   "id": "a3b269ec",
   "metadata": {},
   "outputs": [
    {
     "data": {
      "text/plain": [
       "<AxesSubplot:xlabel='Type of glass', ylabel='Ca'>"
      ]
     },
     "execution_count": 95,
     "metadata": {},
     "output_type": "execute_result"
    },
    {
     "data": {
      "image/png": "[encoded data removed]",
      "text/plain": [
       "<Figure size 432x288 with 1 Axes>"
      ]
     },
     "metadata": {
      "needs_background": "light"
     },
     "output_type": "display_data"
    }
   ],
   "source": [
    "sns.boxplot('Type of glass', 'Ca', data=glass)"
   ]
  },
  {
   "cell_type": "code",
   "execution_count": 96,
   "id": "f3ad64d9",
   "metadata": {},
   "outputs": [
    {
     "data": {
      "text/plain": [
       "<AxesSubplot:xlabel='Type of glass', ylabel='Ba'>"
      ]
     },
     "execution_count": 96,
     "metadata": {},
     "output_type": "execute_result"
    },
    {
     "data": {
      "image/png": "[encoded data removed]",
      "text/plain": [
       "<Figure size 432x288 with 1 Axes>"
      ]
     },
     "metadata": {
      "needs_background": "light"
     },
     "output_type": "display_data"
    }
   ],
   "source": [
    "sns.boxplot('Type of glass', 'Ba', data=glass)"
   ]
  },
  {
   "cell_type": "code",
   "execution_count": 97,
   "id": "563ad021",
   "metadata": {},
   "outputs": [
    {
     "data": {
      "text/plain": [
       "<AxesSubplot:xlabel='Type of glass', ylabel='Fe'>"
      ]
     },
     "execution_count": 97,
     "metadata": {},
     "output_type": "execute_result"
    },
    {
     "data": {
      "image/png": "[encoded data removed]",
      "text/plain": [
       "<Figure size 432x288 with 1 Axes>"
      ]
     },
     "metadata": {
      "needs_background": "light"
     },
     "output_type": "display_data"
    }
   ],
   "source": [
    "sns.boxplot('Type of glass', 'Fe', data=glass)"
   ]
  },
  {
   "cell_type": "markdown",
   "id": "534b5190",
   "metadata": {},
   "source": [
    "**We observed that there is so much outliers present in data , so we need to remove these outliers to get good accuracy.**"
   ]
  },
  {
   "cell_type": "code",
   "execution_count": 105,
   "id": "ce5874e8",
   "metadata": {},
   "outputs": [
    {
     "name": "stdout",
     "output_type": "stream",
     "text": [
      "         id        RI        Na        Mg        Al        Si         K  \\\n",
      "0  1.723938  0.229755  0.591880  0.681474  0.081445  0.038252  0.268575   \n",
      "1  1.707675  0.704878  0.150946  0.620552  0.286720  0.394607  0.011888   \n",
      "2  1.691411  0.229755  0.240996  0.793249  0.232162  0.121300  0.496129   \n",
      "3  1.675147  0.308942  0.167507  0.706078  0.342629  0.521438  0.447821   \n",
      "4  1.658884  0.784065  0.755419  0.693759  0.442150  0.366668  0.656025   \n",
      "\n",
      "         Ca        Ba        Fe  Type of glass  \n",
      "0  0.882521  0.302429  0.570628       0.851703  \n",
      "1  0.936107  0.302429  0.570628       0.851703  \n",
      "2  0.487918  0.302429  0.570628       0.851703  \n",
      "3  0.634960  0.302429  0.570628       0.851703  \n",
      "4  0.634960  0.302429  1.869530       0.851703  \n"
     ]
    }
   ],
   "source": [
    "from scipy import stats\n",
    "import numpy as np\n",
    "z = np.abs(stats.zscore(glass))\n",
    "print(z.head())"
   ]
  },
  {
   "cell_type": "code",
   "execution_count": 100,
   "id": "d7aa13d8",
   "metadata": {},
   "outputs": [
    {
     "name": "stdout",
     "output_type": "stream",
     "text": [
      "(array([ 20, 105, 105, 105, 106, 106, 111, 141, 162, 162, 162, 170, 171,\n",
      "       183, 183, 184, 185, 195, 200], dtype=int64), array([4, 1, 2, 5, 1, 7, 1, 8, 4, 5, 7, 6, 6, 2, 5, 7, 7, 9, 5],\n",
      "      dtype=int64))\n"
     ]
    }
   ],
   "source": [
    "threshold = 3  \n",
    "print(np.where(z > 3))\n",
    "\n",
    "# if the Z-score value is greater than or less than 3 or -3 respectively, that data point will be identified as outliers."
   ]
  },
  {
   "cell_type": "code",
   "execution_count": 106,
   "id": "30d9b6fc",
   "metadata": {},
   "outputs": [],
   "source": [
    "glass=glass[(z < 3).all(axis=1)]"
   ]
  },
  {
   "cell_type": "code",
   "execution_count": 107,
   "id": "cc03faf0",
   "metadata": {},
   "outputs": [
    {
     "data": {
      "text/plain": [
       "(200, 11)"
      ]
     },
     "execution_count": 107,
     "metadata": {},
     "output_type": "execute_result"
    }
   ],
   "source": [
    "glass.shape"
   ]
  },
  {
   "cell_type": "code",
   "execution_count": 109,
   "id": "9ed2ec96",
   "metadata": {},
   "outputs": [
    {
     "data": {
      "text/html": [
       "<div>\n",
       "<style scoped>\n",
       "    .dataframe tbody tr th:only-of-type {\n",
       "        vertical-align: middle;\n",
       "    }\n",
       "\n",
       "    .dataframe tbody tr th {\n",
       "        vertical-align: top;\n",
       "    }\n",
       "\n",
       "    .dataframe thead th {\n",
       "        text-align: right;\n",
       "    }\n",
       "</style>\n",
       "<table border=\"1\" class=\"dataframe\">\n",
       "  <thead>\n",
       "    <tr style=\"text-align: right;\">\n",
       "      <th></th>\n",
       "      <th>id</th>\n",
       "      <th>RI</th>\n",
       "      <th>Na</th>\n",
       "      <th>Mg</th>\n",
       "      <th>Al</th>\n",
       "      <th>Si</th>\n",
       "      <th>K</th>\n",
       "      <th>Ca</th>\n",
       "      <th>Ba</th>\n",
       "      <th>Fe</th>\n",
       "      <th>Type of glass</th>\n",
       "    </tr>\n",
       "  </thead>\n",
       "  <tbody>\n",
       "    <tr>\n",
       "      <th>id</th>\n",
       "      <td>1.000000</td>\n",
       "      <td>-0.001431</td>\n",
       "      <td>0.429969</td>\n",
       "      <td>-0.661175</td>\n",
       "      <td>0.466983</td>\n",
       "      <td>0.081442</td>\n",
       "      <td>-0.430165</td>\n",
       "      <td>0.192956</td>\n",
       "      <td>0.531934</td>\n",
       "      <td>-0.102493</td>\n",
       "      <td>0.874911</td>\n",
       "    </tr>\n",
       "    <tr>\n",
       "      <th>RI</th>\n",
       "      <td>-0.001431</td>\n",
       "      <td>1.000000</td>\n",
       "      <td>-0.048097</td>\n",
       "      <td>-0.100126</td>\n",
       "      <td>-0.500922</td>\n",
       "      <td>-0.578837</td>\n",
       "      <td>-0.274352</td>\n",
       "      <td>0.747896</td>\n",
       "      <td>-0.154078</td>\n",
       "      <td>0.031994</td>\n",
       "      <td>-0.082418</td>\n",
       "    </tr>\n",
       "    <tr>\n",
       "      <th>Na</th>\n",
       "      <td>0.429969</td>\n",
       "      <td>-0.048097</td>\n",
       "      <td>1.000000</td>\n",
       "      <td>-0.350086</td>\n",
       "      <td>0.233736</td>\n",
       "      <td>-0.246560</td>\n",
       "      <td>-0.591828</td>\n",
       "      <td>-0.128515</td>\n",
       "      <td>0.562545</td>\n",
       "      <td>-0.187521</td>\n",
       "      <td>0.556693</td>\n",
       "    </tr>\n",
       "    <tr>\n",
       "      <th>Mg</th>\n",
       "      <td>-0.661175</td>\n",
       "      <td>-0.100126</td>\n",
       "      <td>-0.350086</td>\n",
       "      <td>1.000000</td>\n",
       "      <td>-0.511848</td>\n",
       "      <td>-0.303648</td>\n",
       "      <td>0.509483</td>\n",
       "      <td>-0.462515</td>\n",
       "      <td>-0.608362</td>\n",
       "      <td>0.135523</td>\n",
       "      <td>-0.788266</td>\n",
       "    </tr>\n",
       "    <tr>\n",
       "      <th>Al</th>\n",
       "      <td>0.466983</td>\n",
       "      <td>-0.500922</td>\n",
       "      <td>0.233736</td>\n",
       "      <td>-0.511848</td>\n",
       "      <td>1.000000</td>\n",
       "      <td>0.281607</td>\n",
       "      <td>0.012847</td>\n",
       "      <td>-0.265606</td>\n",
       "      <td>0.544738</td>\n",
       "      <td>-0.097739</td>\n",
       "      <td>0.593891</td>\n",
       "    </tr>\n",
       "    <tr>\n",
       "      <th>Si</th>\n",
       "      <td>0.081442</td>\n",
       "      <td>-0.578837</td>\n",
       "      <td>-0.246560</td>\n",
       "      <td>-0.303648</td>\n",
       "      <td>0.281607</td>\n",
       "      <td>1.000000</td>\n",
       "      <td>0.008776</td>\n",
       "      <td>-0.211816</td>\n",
       "      <td>0.169900</td>\n",
       "      <td>-0.059170</td>\n",
       "      <td>0.196724</td>\n",
       "    </tr>\n",
       "    <tr>\n",
       "      <th>K</th>\n",
       "      <td>-0.430165</td>\n",
       "      <td>-0.274352</td>\n",
       "      <td>-0.591828</td>\n",
       "      <td>0.509483</td>\n",
       "      <td>0.012847</td>\n",
       "      <td>0.008776</td>\n",
       "      <td>1.000000</td>\n",
       "      <td>-0.411770</td>\n",
       "      <td>-0.502850</td>\n",
       "      <td>0.168252</td>\n",
       "      <td>-0.532035</td>\n",
       "    </tr>\n",
       "    <tr>\n",
       "      <th>Ca</th>\n",
       "      <td>0.192956</td>\n",
       "      <td>0.747896</td>\n",
       "      <td>-0.128515</td>\n",
       "      <td>-0.462515</td>\n",
       "      <td>-0.265606</td>\n",
       "      <td>-0.211816</td>\n",
       "      <td>-0.411770</td>\n",
       "      <td>1.000000</td>\n",
       "      <td>-0.075305</td>\n",
       "      <td>0.024865</td>\n",
       "      <td>0.137826</td>\n",
       "    </tr>\n",
       "    <tr>\n",
       "      <th>Ba</th>\n",
       "      <td>0.531934</td>\n",
       "      <td>-0.154078</td>\n",
       "      <td>0.562545</td>\n",
       "      <td>-0.608362</td>\n",
       "      <td>0.544738</td>\n",
       "      <td>0.169900</td>\n",
       "      <td>-0.502850</td>\n",
       "      <td>-0.075305</td>\n",
       "      <td>1.000000</td>\n",
       "      <td>-0.202544</td>\n",
       "      <td>0.707155</td>\n",
       "    </tr>\n",
       "    <tr>\n",
       "      <th>Fe</th>\n",
       "      <td>-0.102493</td>\n",
       "      <td>0.031994</td>\n",
       "      <td>-0.187521</td>\n",
       "      <td>0.135523</td>\n",
       "      <td>-0.097739</td>\n",
       "      <td>-0.059170</td>\n",
       "      <td>0.168252</td>\n",
       "      <td>0.024865</td>\n",
       "      <td>-0.202544</td>\n",
       "      <td>1.000000</td>\n",
       "      <td>-0.208856</td>\n",
       "    </tr>\n",
       "    <tr>\n",
       "      <th>Type of glass</th>\n",
       "      <td>0.874911</td>\n",
       "      <td>-0.082418</td>\n",
       "      <td>0.556693</td>\n",
       "      <td>-0.788266</td>\n",
       "      <td>0.593891</td>\n",
       "      <td>0.196724</td>\n",
       "      <td>-0.532035</td>\n",
       "      <td>0.137826</td>\n",
       "      <td>0.707155</td>\n",
       "      <td>-0.208856</td>\n",
       "      <td>1.000000</td>\n",
       "    </tr>\n",
       "  </tbody>\n",
       "</table>\n",
       "</div>"
      ],
      "text/plain": [
       "                     id        RI        Na        Mg        Al        Si  \\\n",
       "id             1.000000 -0.001431  0.429969 -0.661175  0.466983  0.081442   \n",
       "RI            -0.001431  1.000000 -0.048097 -0.100126 -0.500922 -0.578837   \n",
       "Na             0.429969 -0.048097  1.000000 -0.350086  0.233736 -0.246560   \n",
       "Mg            -0.661175 -0.100126 -0.350086  1.000000 -0.511848 -0.303648   \n",
       "Al             0.466983 -0.500922  0.233736 -0.511848  1.000000  0.281607   \n",
       "Si             0.081442 -0.578837 -0.246560 -0.303648  0.281607  1.000000   \n",
       "K             -0.430165 -0.274352 -0.591828  0.509483  0.012847  0.008776   \n",
       "Ca             0.192956  0.747896 -0.128515 -0.462515 -0.265606 -0.211816   \n",
       "Ba             0.531934 -0.154078  0.562545 -0.608362  0.544738  0.169900   \n",
       "Fe            -0.102493  0.031994 -0.187521  0.135523 -0.097739 -0.059170   \n",
       "Type of glass  0.874911 -0.082418  0.556693 -0.788266  0.593891  0.196724   \n",
       "\n",
       "                      K        Ca        Ba        Fe  Type of glass  \n",
       "id            -0.430165  0.192956  0.531934 -0.102493       0.874911  \n",
       "RI            -0.274352  0.747896 -0.154078  0.031994      -0.082418  \n",
       "Na            -0.591828 -0.128515  0.562545 -0.187521       0.556693  \n",
       "Mg             0.509483 -0.462515 -0.608362  0.135523      -0.788266  \n",
       "Al             0.012847 -0.265606  0.544738 -0.097739       0.593891  \n",
       "Si             0.008776 -0.211816  0.169900 -0.059170       0.196724  \n",
       "K              1.000000 -0.411770 -0.502850  0.168252      -0.532035  \n",
       "Ca            -0.411770  1.000000 -0.075305  0.024865       0.137826  \n",
       "Ba            -0.502850 -0.075305  1.000000 -0.202544       0.707155  \n",
       "Fe             0.168252  0.024865 -0.202544  1.000000      -0.208856  \n",
       "Type of glass -0.532035  0.137826  0.707155 -0.208856       1.000000  "
      ]
     },
     "execution_count": 109,
     "metadata": {},
     "output_type": "execute_result"
    }
   ],
   "source": [
    "# Correlation:\n",
    "\n",
    "\n",
    "glass.corr()"
   ]
  },
  {
   "cell_type": "code",
   "execution_count": 110,
   "id": "32afcf9b",
   "metadata": {},
   "outputs": [
    {
     "data": {
      "image/png": "[encoded data removed]",
      "text/plain": [
       "<Figure size 576x504 with 2 Axes>"
      ]
     },
     "metadata": {
      "needs_background": "light"
     },
     "output_type": "display_data"
    }
   ],
   "source": [
    "import seaborn as sns\n",
    "import matplotlib.pyplot as plt\n",
    "corr_=glass.corr()\n",
    "plt.figure(figsize=(8,7))\n",
    "sns.heatmap(corr_,annot=True)   # annot = True , means array used in dataset is of same shape.\n",
    "plt.show()"
   ]
  },
  {
   "cell_type": "markdown",
   "id": "8f77362c",
   "metadata": {},
   "source": [
    "**Here , 'Mg'column is highly negative correlated so we can drop the Mg column.**"
   ]
  },
  {
   "cell_type": "code",
   "execution_count": 111,
   "id": "228bd716",
   "metadata": {},
   "outputs": [],
   "source": [
    "glass.drop(columns=['Mg'],axis=1,inplace=True)"
   ]
  },
  {
   "cell_type": "code",
   "execution_count": 113,
   "id": "b3d07c9a",
   "metadata": {},
   "outputs": [
    {
     "data": {
      "text/html": [
       "<div>\n",
       "<style scoped>\n",
       "    .dataframe tbody tr th:only-of-type {\n",
       "        vertical-align: middle;\n",
       "    }\n",
       "\n",
       "    .dataframe tbody tr th {\n",
       "        vertical-align: top;\n",
       "    }\n",
       "\n",
       "    .dataframe thead th {\n",
       "        text-align: right;\n",
       "    }\n",
       "</style>\n",
       "<table border=\"1\" class=\"dataframe\">\n",
       "  <thead>\n",
       "    <tr style=\"text-align: right;\">\n",
       "      <th></th>\n",
       "      <th>id</th>\n",
       "      <th>RI</th>\n",
       "      <th>Na</th>\n",
       "      <th>Al</th>\n",
       "      <th>Si</th>\n",
       "      <th>K</th>\n",
       "      <th>Ca</th>\n",
       "      <th>Ba</th>\n",
       "      <th>Fe</th>\n",
       "      <th>Type of glass</th>\n",
       "    </tr>\n",
       "  </thead>\n",
       "  <tbody>\n",
       "    <tr>\n",
       "      <th>0</th>\n",
       "      <td>2</td>\n",
       "      <td>-2.081668e-17</td>\n",
       "      <td>13.89</td>\n",
       "      <td>-0.081445</td>\n",
       "      <td>0.038252</td>\n",
       "      <td>0.268575</td>\n",
       "      <td>-0.882521</td>\n",
       "      <td>-0.302429</td>\n",
       "      <td>-0.570628</td>\n",
       "      <td>1</td>\n",
       "    </tr>\n",
       "    <tr>\n",
       "      <th>1</th>\n",
       "      <td>3</td>\n",
       "      <td>-6.245005e-17</td>\n",
       "      <td>13.53</td>\n",
       "      <td>0.286720</td>\n",
       "      <td>0.394607</td>\n",
       "      <td>0.011888</td>\n",
       "      <td>-0.936107</td>\n",
       "      <td>-0.302429</td>\n",
       "      <td>-0.570628</td>\n",
       "      <td>1</td>\n",
       "    </tr>\n",
       "    <tr>\n",
       "      <th>2</th>\n",
       "      <td>4</td>\n",
       "      <td>-2.081668e-17</td>\n",
       "      <td>13.21</td>\n",
       "      <td>-0.232162</td>\n",
       "      <td>-0.121300</td>\n",
       "      <td>0.496129</td>\n",
       "      <td>-0.487918</td>\n",
       "      <td>-0.302429</td>\n",
       "      <td>-0.570628</td>\n",
       "      <td>1</td>\n",
       "    </tr>\n",
       "    <tr>\n",
       "      <th>3</th>\n",
       "      <td>5</td>\n",
       "      <td>-2.775558e-17</td>\n",
       "      <td>13.27</td>\n",
       "      <td>-0.342629</td>\n",
       "      <td>0.521438</td>\n",
       "      <td>0.447821</td>\n",
       "      <td>-0.634960</td>\n",
       "      <td>-0.302429</td>\n",
       "      <td>-0.570628</td>\n",
       "      <td>1</td>\n",
       "    </tr>\n",
       "    <tr>\n",
       "      <th>4</th>\n",
       "      <td>6</td>\n",
       "      <td>-6.938894e-17</td>\n",
       "      <td>12.79</td>\n",
       "      <td>0.442150</td>\n",
       "      <td>0.366668</td>\n",
       "      <td>0.656025</td>\n",
       "      <td>-0.634960</td>\n",
       "      <td>-0.302429</td>\n",
       "      <td>1.869530</td>\n",
       "      <td>1</td>\n",
       "    </tr>\n",
       "    <tr>\n",
       "      <th>...</th>\n",
       "      <td>...</td>\n",
       "      <td>...</td>\n",
       "      <td>...</td>\n",
       "      <td>...</td>\n",
       "      <td>...</td>\n",
       "      <td>...</td>\n",
       "      <td>...</td>\n",
       "      <td>...</td>\n",
       "      <td>...</td>\n",
       "      <td>...</td>\n",
       "    </tr>\n",
       "    <tr>\n",
       "      <th>208</th>\n",
       "      <td>210</td>\n",
       "      <td>-6.245005e-17</td>\n",
       "      <td>14.14</td>\n",
       "      <td>2.415518</td>\n",
       "      <td>-0.121300</td>\n",
       "      <td>-1.195502</td>\n",
       "      <td>0.333739</td>\n",
       "      <td>2.373630</td>\n",
       "      <td>-0.570628</td>\n",
       "      <td>7</td>\n",
       "    </tr>\n",
       "    <tr>\n",
       "      <th>209</th>\n",
       "      <td>211</td>\n",
       "      <td>-4.510281e-17</td>\n",
       "      <td>14.92</td>\n",
       "      <td>1.104938</td>\n",
       "      <td>0.493096</td>\n",
       "      <td>-1.627123</td>\n",
       "      <td>-0.318743</td>\n",
       "      <td>2.393978</td>\n",
       "      <td>-0.570628</td>\n",
       "      <td>7</td>\n",
       "    </tr>\n",
       "    <tr>\n",
       "      <th>210</th>\n",
       "      <td>212</td>\n",
       "      <td>6.938894e-17</td>\n",
       "      <td>14.36</td>\n",
       "      <td>1.155073</td>\n",
       "      <td>1.017262</td>\n",
       "      <td>-1.627123</td>\n",
       "      <td>-0.282179</td>\n",
       "      <td>2.394491</td>\n",
       "      <td>-0.570628</td>\n",
       "      <td>7</td>\n",
       "    </tr>\n",
       "    <tr>\n",
       "      <th>211</th>\n",
       "      <td>213</td>\n",
       "      <td>-5.204170e-17</td>\n",
       "      <td>14.38</td>\n",
       "      <td>1.020265</td>\n",
       "      <td>1.306184</td>\n",
       "      <td>-1.627123</td>\n",
       "      <td>-0.245979</td>\n",
       "      <td>2.393745</td>\n",
       "      <td>-0.570628</td>\n",
       "      <td>7</td>\n",
       "    </tr>\n",
       "    <tr>\n",
       "      <th>212</th>\n",
       "      <td>214</td>\n",
       "      <td>-3.816392e-17</td>\n",
       "      <td>14.23</td>\n",
       "      <td>1.253886</td>\n",
       "      <td>0.927811</td>\n",
       "      <td>-1.627123</td>\n",
       "      <td>-0.122064</td>\n",
       "      <td>2.394758</td>\n",
       "      <td>-0.570628</td>\n",
       "      <td>7</td>\n",
       "    </tr>\n",
       "  </tbody>\n",
       "</table>\n",
       "<p>200 rows × 10 columns</p>\n",
       "</div>"
      ],
      "text/plain": [
       "      id            RI     Na        Al        Si         K        Ca  \\\n",
       "0      2 -2.081668e-17  13.89 -0.081445  0.038252  0.268575 -0.882521   \n",
       "1      3 -6.245005e-17  13.53  0.286720  0.394607  0.011888 -0.936107   \n",
       "2      4 -2.081668e-17  13.21 -0.232162 -0.121300  0.496129 -0.487918   \n",
       "3      5 -2.775558e-17  13.27 -0.342629  0.521438  0.447821 -0.634960   \n",
       "4      6 -6.938894e-17  12.79  0.442150  0.366668  0.656025 -0.634960   \n",
       "..   ...           ...    ...       ...       ...       ...       ...   \n",
       "208  210 -6.245005e-17  14.14  2.415518 -0.121300 -1.195502  0.333739   \n",
       "209  211 -4.510281e-17  14.92  1.104938  0.493096 -1.627123 -0.318743   \n",
       "210  212  6.938894e-17  14.36  1.155073  1.017262 -1.627123 -0.282179   \n",
       "211  213 -5.204170e-17  14.38  1.020265  1.306184 -1.627123 -0.245979   \n",
       "212  214 -3.816392e-17  14.23  1.253886  0.927811 -1.627123 -0.122064   \n",
       "\n",
       "           Ba        Fe  Type of glass  \n",
       "0   -0.302429 -0.570628              1  \n",
       "1   -0.302429 -0.570628              1  \n",
       "2   -0.302429 -0.570628              1  \n",
       "3   -0.302429 -0.570628              1  \n",
       "4   -0.302429  1.869530              1  \n",
       "..        ...       ...            ...  \n",
       "208  2.373630 -0.570628              7  \n",
       "209  2.393978 -0.570628              7  \n",
       "210  2.394491 -0.570628              7  \n",
       "211  2.393745 -0.570628              7  \n",
       "212  2.394758 -0.570628              7  \n",
       "\n",
       "[200 rows x 10 columns]"
      ]
     },
     "execution_count": 113,
     "metadata": {},
     "output_type": "execute_result"
    }
   ],
   "source": [
    "glass"
   ]
  },
  {
   "cell_type": "code",
   "execution_count": 114,
   "id": "95d86bf9",
   "metadata": {},
   "outputs": [],
   "source": [
    "#splitting the datasets\n",
    "x=glass.iloc[:,0:-1]\n",
    "y=glass.iloc[:,-1]"
   ]
  },
  {
   "cell_type": "code",
   "execution_count": 115,
   "id": "c908e061",
   "metadata": {},
   "outputs": [
    {
     "data": {
      "text/plain": [
       "(200, 9)"
      ]
     },
     "execution_count": 115,
     "metadata": {},
     "output_type": "execute_result"
    }
   ],
   "source": [
    "x.shape"
   ]
  },
  {
   "cell_type": "code",
   "execution_count": 116,
   "id": "caa03b24",
   "metadata": {},
   "outputs": [
    {
     "data": {
      "text/plain": [
       "(200,)"
      ]
     },
     "execution_count": 116,
     "metadata": {},
     "output_type": "execute_result"
    }
   ],
   "source": [
    "y.shape"
   ]
  },
  {
   "cell_type": "code",
   "execution_count": 117,
   "id": "4ee31faa",
   "metadata": {},
   "outputs": [
    {
     "data": {
      "text/html": [
       "<div>\n",
       "<style scoped>\n",
       "    .dataframe tbody tr th:only-of-type {\n",
       "        vertical-align: middle;\n",
       "    }\n",
       "\n",
       "    .dataframe tbody tr th {\n",
       "        vertical-align: top;\n",
       "    }\n",
       "\n",
       "    .dataframe thead th {\n",
       "        text-align: right;\n",
       "    }\n",
       "</style>\n",
       "<table border=\"1\" class=\"dataframe\">\n",
       "  <thead>\n",
       "    <tr style=\"text-align: right;\">\n",
       "      <th></th>\n",
       "      <th>id</th>\n",
       "      <th>RI</th>\n",
       "      <th>Na</th>\n",
       "      <th>Al</th>\n",
       "      <th>Si</th>\n",
       "      <th>K</th>\n",
       "      <th>Ca</th>\n",
       "      <th>Ba</th>\n",
       "      <th>Fe</th>\n",
       "    </tr>\n",
       "  </thead>\n",
       "  <tbody>\n",
       "    <tr>\n",
       "      <th>0</th>\n",
       "      <td>2</td>\n",
       "      <td>-2.081668e-17</td>\n",
       "      <td>13.89</td>\n",
       "      <td>-0.081445</td>\n",
       "      <td>0.038252</td>\n",
       "      <td>0.268575</td>\n",
       "      <td>-0.882521</td>\n",
       "      <td>-0.302429</td>\n",
       "      <td>-0.570628</td>\n",
       "    </tr>\n",
       "    <tr>\n",
       "      <th>1</th>\n",
       "      <td>3</td>\n",
       "      <td>-6.245005e-17</td>\n",
       "      <td>13.53</td>\n",
       "      <td>0.286720</td>\n",
       "      <td>0.394607</td>\n",
       "      <td>0.011888</td>\n",
       "      <td>-0.936107</td>\n",
       "      <td>-0.302429</td>\n",
       "      <td>-0.570628</td>\n",
       "    </tr>\n",
       "    <tr>\n",
       "      <th>2</th>\n",
       "      <td>4</td>\n",
       "      <td>-2.081668e-17</td>\n",
       "      <td>13.21</td>\n",
       "      <td>-0.232162</td>\n",
       "      <td>-0.121300</td>\n",
       "      <td>0.496129</td>\n",
       "      <td>-0.487918</td>\n",
       "      <td>-0.302429</td>\n",
       "      <td>-0.570628</td>\n",
       "    </tr>\n",
       "    <tr>\n",
       "      <th>3</th>\n",
       "      <td>5</td>\n",
       "      <td>-2.775558e-17</td>\n",
       "      <td>13.27</td>\n",
       "      <td>-0.342629</td>\n",
       "      <td>0.521438</td>\n",
       "      <td>0.447821</td>\n",
       "      <td>-0.634960</td>\n",
       "      <td>-0.302429</td>\n",
       "      <td>-0.570628</td>\n",
       "    </tr>\n",
       "    <tr>\n",
       "      <th>4</th>\n",
       "      <td>6</td>\n",
       "      <td>-6.938894e-17</td>\n",
       "      <td>12.79</td>\n",
       "      <td>0.442150</td>\n",
       "      <td>0.366668</td>\n",
       "      <td>0.656025</td>\n",
       "      <td>-0.634960</td>\n",
       "      <td>-0.302429</td>\n",
       "      <td>1.869530</td>\n",
       "    </tr>\n",
       "  </tbody>\n",
       "</table>\n",
       "</div>"
      ],
      "text/plain": [
       "   id            RI     Na        Al        Si         K        Ca        Ba  \\\n",
       "0   2 -2.081668e-17  13.89 -0.081445  0.038252  0.268575 -0.882521 -0.302429   \n",
       "1   3 -6.245005e-17  13.53  0.286720  0.394607  0.011888 -0.936107 -0.302429   \n",
       "2   4 -2.081668e-17  13.21 -0.232162 -0.121300  0.496129 -0.487918 -0.302429   \n",
       "3   5 -2.775558e-17  13.27 -0.342629  0.521438  0.447821 -0.634960 -0.302429   \n",
       "4   6 -6.938894e-17  12.79  0.442150  0.366668  0.656025 -0.634960 -0.302429   \n",
       "\n",
       "         Fe  \n",
       "0 -0.570628  \n",
       "1 -0.570628  \n",
       "2 -0.570628  \n",
       "3 -0.570628  \n",
       "4  1.869530  "
      ]
     },
     "execution_count": 117,
     "metadata": {},
     "output_type": "execute_result"
    }
   ],
   "source": [
    "x.head()"
   ]
  },
  {
   "cell_type": "code",
   "execution_count": 119,
   "id": "1615e1d7",
   "metadata": {},
   "outputs": [
    {
     "data": {
      "text/plain": [
       "0      1\n",
       "1      1\n",
       "2      1\n",
       "3      1\n",
       "4      1\n",
       "      ..\n",
       "208    7\n",
       "209    7\n",
       "210    7\n",
       "211    7\n",
       "212    7\n",
       "Name: Type of glass, Length: 200, dtype: int64"
      ]
     },
     "execution_count": 119,
     "metadata": {},
     "output_type": "execute_result"
    }
   ],
   "source": [
    "y"
   ]
  },
  {
   "cell_type": "code",
   "execution_count": 120,
   "id": "12153866",
   "metadata": {},
   "outputs": [],
   "source": [
    "from sklearn.preprocessing import StandardScaler\n",
    "from sklearn.model_selection import train_test_split, cross_val_score\n",
    "from sklearn.metrics import r2_score\n",
    "from time import time"
   ]
  },
  {
   "cell_type": "code",
   "execution_count": 121,
   "id": "3635bc54",
   "metadata": {},
   "outputs": [],
   "source": [
    "x_train,x_test,y_train,y_test=train_test_split(x,y,test_size=0.30,random_state=43)"
   ]
  },
  {
   "cell_type": "code",
   "execution_count": 122,
   "id": "0161105e",
   "metadata": {},
   "outputs": [
    {
     "data": {
      "text/plain": [
       "array([[-1.68720239, -0.26912287,  0.64993206, ..., -1.17777314,\n",
       "        -0.29958085, -0.61753886],\n",
       "       [-1.67085749, -0.8322396 ,  0.16696056, ..., -1.24560183,\n",
       "        -0.29958085, -0.61753886],\n",
       "       [-1.65451259, -0.26912287, -0.26234743, ..., -0.67829598,\n",
       "        -0.29958085, -0.61753886],\n",
       "       ...,\n",
       "       [ 1.74522679,  0.95096338,  1.28047818, ..., -0.41787662,\n",
       "         2.64986761, -0.61753886],\n",
       "       [ 1.76157169, -0.69146042,  1.30730993, ..., -0.37205472,\n",
       "         2.64905108, -0.61753886],\n",
       "       [ 1.77791659, -0.50375484,  1.10607181, ..., -0.21520658,\n",
       "         2.65015935, -0.61753886]])"
      ]
     },
     "execution_count": 122,
     "metadata": {},
     "output_type": "execute_result"
    }
   ],
   "source": [
    "scaler = StandardScaler()\n",
    "scaled_x = scaler.fit_transform(x)\n",
    "scaled_x"
   ]
  },
  {
   "cell_type": "code",
   "execution_count": 129,
   "id": "09a8ad3d",
   "metadata": {},
   "outputs": [
    {
     "data": {
      "text/plain": [
       "DecisionTreeClassifier(criterion='entropy')"
      ]
     },
     "execution_count": 129,
     "metadata": {},
     "output_type": "execute_result"
    }
   ],
   "source": [
    "#DECISION TREE CLASSIFIER\n",
    "\n",
    "from sklearn.tree import DecisionTreeClassifier\n",
    "glass_gini=DecisionTreeClassifier(criterion='gini')\n",
    "glass_gini.fit(x_train,y_train)\n",
    "glass_entropy=DecisionTreeClassifier(criterion='entropy')\n",
    "glass_entropy.fit(x_train,y_train)"
   ]
  },
  {
   "cell_type": "code",
   "execution_count": 130,
   "id": "63bb41c9",
   "metadata": {},
   "outputs": [],
   "source": [
    "y_pred_train=glass_entropy.predict(x_train)\n",
    "y_pred_test=glass_entropy.predict(x_test)"
   ]
  },
  {
   "cell_type": "code",
   "execution_count": 132,
   "id": "079a15bb",
   "metadata": {},
   "outputs": [
    {
     "name": "stdout",
     "output_type": "stream",
     "text": [
      "[[23  1  0  0  0  0]\n",
      " [ 0 18  0  0  0  0]\n",
      " [ 0  0  4  1  0  0]\n",
      " [ 0  0  0  2  0  0]\n",
      " [ 0  0  1  0  3  0]\n",
      " [ 0  0  0  0  0  7]]\n"
     ]
    }
   ],
   "source": [
    "from sklearn.metrics import classification_report,accuracy_score,confusion_matrix\n",
    "print(confusion_matrix(y_test,y_pred_test))"
   ]
  },
  {
   "cell_type": "code",
   "execution_count": 133,
   "id": "77572cfc",
   "metadata": {},
   "outputs": [
    {
     "name": "stdout",
     "output_type": "stream",
     "text": [
      "              precision    recall  f1-score   support\n",
      "\n",
      "           1       1.00      0.96      0.98        24\n",
      "           2       0.95      1.00      0.97        18\n",
      "           3       0.80      0.80      0.80         5\n",
      "           5       0.67      1.00      0.80         2\n",
      "           6       1.00      0.75      0.86         4\n",
      "           7       1.00      1.00      1.00         7\n",
      "\n",
      "    accuracy                           0.95        60\n",
      "   macro avg       0.90      0.92      0.90        60\n",
      "weighted avg       0.96      0.95      0.95        60\n",
      "\n"
     ]
    }
   ],
   "source": [
    "print(classification_report(y_test,y_pred_test))"
   ]
  },
  {
   "cell_type": "code",
   "execution_count": 134,
   "id": "dc2022fe",
   "metadata": {},
   "outputs": [
    {
     "name": "stdout",
     "output_type": "stream",
     "text": [
      "0.95\n"
     ]
    }
   ],
   "source": [
    "print(accuracy_score(y_test,y_pred_test))"
   ]
  },
  {
   "cell_type": "code",
   "execution_count": 135,
   "id": "e6da3da3",
   "metadata": {},
   "outputs": [
    {
     "name": "stdout",
     "output_type": "stream",
     "text": [
      "[1.         1.         1.         0.9        1.         0.88888889\n",
      " 1.         1.         1.         1.         1.         1.\n",
      " 1.         1.         1.        ]\n",
      "\n",
      "\n",
      "[1.   1.   1.   1.   1.   1.   1.   1.   1.   0.75 1.   1.   1.   1.\n",
      " 1.  ]\n"
     ]
    }
   ],
   "source": [
    "accuracy_train=cross_val_score(glass_entropy,X=x_train,y=y_train,cv=15)\n",
    "accuracy_test=cross_val_score(glass_entropy,X=x_test,y=y_test,cv=15)\n",
    "print(accuracy_train)\n",
    "print('\\n')\n",
    "print(accuracy_test)"
   ]
  },
  {
   "cell_type": "code",
   "execution_count": 136,
   "id": "b4784747",
   "metadata": {},
   "outputs": [
    {
     "name": "stdout",
     "output_type": "stream",
     "text": [
      "0.9859259259259259\n",
      "0.9833333333333333\n"
     ]
    }
   ],
   "source": [
    "print(accuracy_train.mean())\n",
    "print(accuracy_test.mean())"
   ]
  },
  {
   "cell_type": "markdown",
   "id": "4672743b",
   "metadata": {},
   "source": [
    "# Conclusion:"
   ]
  },
  {
   "cell_type": "markdown",
   "id": "a4665688",
   "metadata": {},
   "source": [
    "**The glass identification model gives a high level of accuracy in both training and testing, with a score of 98% in both cases. This concludes that the model is performing accurately in identifying the types of glass in the dataset. This high accuracy indicates that the model has been properly trained and is able to generalize well to new data. Therefore, this model could be used as a reliable tool for glass identification.**\n",
    "\n"
   ]
  },
  {
   "cell_type": "code",
   "execution_count": null,
   "id": "eec89a2d",
   "metadata": {},
   "outputs": [],
   "source": []
  }
 ],
 "metadata": {
  "kernelspec": {
   "display_name": "Python 3 (ipykernel)",
   "language": "python",
   "name": "python3"
  },
  "language_info": {
   "codemirror_mode": {
    "name": "ipython",
    "version": 3
   },
   "file_extension": ".py",
   "mimetype": "text/x-python",
   "name": "python",
   "nbconvert_exporter": "python",
   "pygments_lexer": "ipython3",
   "version": "3.9.12"
  }
 },
 "nbformat": 4,
 "nbformat_minor": 5
}
